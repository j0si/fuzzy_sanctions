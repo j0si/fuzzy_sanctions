{
 "cells": [
  {
   "attachments": {},
   "cell_type": "markdown",
   "metadata": {},
   "source": [
    "Basic Jaro-Winkler from fuzzywuzzy"
   ]
  },
  {
   "cell_type": "code",
   "execution_count": null,
   "metadata": {},
   "outputs": [],
   "source": [
    "from fuzzywuzzy import jaro_winkler_similarity\n",
    "\n",
    "# Function to calculate the Jaro-Winkler similarity between two texts\n",
    "def jaro_winkler_sim(text1, text2):\n",
    "  # Calculate the Jaro-Winkler similarity between the texts\n",
    "  similarity = jaro_winkler_similarity(text1, text2)\n",
    "\n",
    "  return similarity\n",
    "\n",
    "# Example usage\n",
    "text1 = \"This is a test text.\"\n",
    "text2 = \"This is another test text.\"\n",
    "similarity = jaro_winkler_sim(text1, text2)\n",
    "print(similarity)\n"
   ]
  },
  {
   "attachments": {},
   "cell_type": "markdown",
   "metadata": {},
   "source": [
    "Jaro Winkler as Function without existing library"
   ]
  },
  {
   "cell_type": "code",
   "execution_count": null,
   "metadata": {},
   "outputs": [],
   "source": [
    "def jaro_winkler(str1: str, str2: str) -> float:\n",
    "\n",
    "    def get_matched_characters(_str1: str, _str2: str) -> str:\n",
    "        matched = []\n",
    "        limit = min(len(_str1), len(_str2)) // 2\n",
    "        for i, l in enumerate(_str1):\n",
    "            left = int(max(0, i - limit))\n",
    "            right = int(min(i + limit + 1, len(_str2)))\n",
    "            if l in _str2[left:right]:\n",
    "                matched.append(l)\n",
    "                _str2 = f\"{_str2[0:_str2.index(l)]} {_str2[_str2.index(l) + 1:]}\"\n",
    "        return \"\".join(matched)\n",
    "\n",
    "    # matching characters\n",
    "    matching_1 = get_matched_characters(str1, str2)\n",
    "    matching_2 = get_matched_characters(str2, str1)\n",
    "    match_count = len(matching_1)\n",
    "\n",
    "    # transposition\n",
    "    transpositions = (\n",
    "        len([(c1, c2) for c1, c2 in zip(matching_1, matching_2) if c1 != c2]) // 2)\n",
    "\n",
    "    if not match_count:\n",
    "        jaro = 0.0\n",
    "    else:\n",
    "        jaro = (\n",
    "            1\n",
    "            / 3\n",
    "            * (\n",
    "                match_count / len(str1)\n",
    "                + match_count / len(str2)\n",
    "                + (match_count - transpositions) / match_count\n",
    "            ))\n",
    "\n",
    "    # common prefix up to 4 characters\n",
    "    prefix_len = 0\n",
    "    for c1, c2 in zip(str1[:4], str2[:4]):\n",
    "        if c1 == c2:\n",
    "            prefix_len += 1\n",
    "        else:\n",
    "            break\n",
    "    return jaro + 0.1 * prefix_len * (1 - jaro)\n",
    "\n",
    "if __name__ == \"__main__\":\n",
    "    import doctest\n",
    "    doctest.testmod()\n",
    "    print(jaro_winkler(\"Pascal\", \"Patrick\"))"
   ]
  }
 ],
 "metadata": {
  "kernelspec": {
   "display_name": "Python 3",
   "language": "python",
   "name": "python3"
  },
  "language_info": {
   "codemirror_mode": {
    "name": "ipython",
    "version": 3
   },
   "file_extension": ".py",
   "mimetype": "text/x-python",
   "name": "python",
   "nbconvert_exporter": "python",
   "pygments_lexer": "ipython3",
   "version": "3.8.10 (v3.8.10:3d8993a744, May  3 2021, 08:55:58) \n[Clang 6.0 (clang-600.0.57)]"
  },
  "orig_nbformat": 4,
  "vscode": {
   "interpreter": {
    "hash": "aee8b7b246df8f9039afb4144a1f6fd8d2ca17a180786b69acc140d282b71a49"
   }
  }
 },
 "nbformat": 4,
 "nbformat_minor": 2
}
