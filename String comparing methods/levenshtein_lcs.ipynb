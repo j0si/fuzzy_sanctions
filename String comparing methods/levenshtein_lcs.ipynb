{
  "cells": [
    {
      "cell_type": "markdown",
      "metadata": {
        "colab_type": "text",
        "id": "view-in-github"
      },
      "source": [
        "<a href=\"https://colab.research.google.com/github/j0si/fuzzy_sanctions/blob/main/levenshtein_lcs.ipynb\" target=\"_parent\"><img src=\"https://colab.research.google.com/assets/colab-badge.svg\" alt=\"Open In Colab\"/></a>"
      ]
    },
    {
      "cell_type": "code",
      "execution_count": 6,
      "metadata": {},
      "outputs": [],
      "source": [
        "import pandas as pd\n",
        "\n",
        "df = pd.read_csv('../data/EuropeanSanctions.csv')\n",
        "n = df['Identity information'].to_string().split()"
      ]
    },
    {
      "cell_type": "code",
      "execution_count": 19,
      "metadata": {
        "id": "REWVijYJOWOy"
      },
      "outputs": [],
      "source": [
        "# levenstein implementation\n",
        "import numpy as np\n",
        "\n",
        "def printDistances(distances, token1Length, token2Length):\n",
        "    for t1 in range(token1Length + 1):\n",
        "        for t2 in range(token2Length + 1):\n",
        "            print(int(distances[t1][t2]), end=\" \")\n",
        "        print()\n",
        "\n",
        "def levenshteinDistanceDP(token1, token2):\n",
        "    \n",
        "    # safe results\n",
        "    resultlist = []\n",
        "    \n",
        "    def calculations_levenstein(token1, token2):\n",
        "        distances = np.zeros((len(token1) + 1, len(token2) + 1))\n",
        "\n",
        "        for t1 in range(len(token1) + 1):\n",
        "            distances[t1][0] = t1\n",
        "\n",
        "        for t2 in range(len(token2) + 1):\n",
        "            distances[0][t2] = t2\n",
        "            \n",
        "        a = 0\n",
        "        b = 0\n",
        "        c = 0\n",
        "        \n",
        "        for t1 in range(1, len(token1) + 1):\n",
        "            for t2 in range(1, len(token2) + 1):\n",
        "                if (token1[t1-1] == token2[t2-1]):\n",
        "                    distances[t1][t2] = distances[t1 - 1][t2 - 1]\n",
        "                else:\n",
        "                    a = distances[t1][t2 - 1]\n",
        "                    b = distances[t1 - 1][t2]\n",
        "                    c = distances[t1 - 1][t2 - 1]\n",
        "                    \n",
        "                    if (a <= b and a <= c):\n",
        "                        distances[t1][t2] = a + 1\n",
        "                    elif (b <= a and b <= c):\n",
        "                        distances[t1][t2] = b + 1\n",
        "                    else:\n",
        "                        distances[t1][t2] = c + 1\n",
        "\n",
        "        # print matrix\n",
        "        # printDistances(distances, len(token1), len(token2))\n",
        "        return distances[len(token1)][len(token2)]\n",
        "\n",
        "    for element in token2:\n",
        "        resultlist.append([calculations_levenstein(token1, element), element])\n",
        "    resultlist.sort()\n",
        "    resultlist = resultlist[:5]\n",
        "    print(resultlist)\n",
        "    \n",
        "    st.write(\"Top 5 results:\")\n",
        "    for ele in resultlist:\n",
        "        st.write(ele)\n",
        "    \n",
        "\n"
      ]
    },
    {
      "cell_type": "code",
      "execution_count": 20,
      "metadata": {
        "colab": {
          "base_uri": "https://localhost:8080/"
        },
        "id": "WHnClyFuQAWf",
        "outputId": "9f4d3692-deee-47b9-d923-3ddde99d79b2"
      },
      "outputs": [
        {
          "name": "stdout",
          "output_type": "stream",
          "text": [
            "[[1.0, 'Mohammed'], [1.0, 'Mohammed'], [1.0, 'Mohammed'], [1.0, 'Mohammed'], [1.0, 'Mohammed']]\n"
          ]
        }
      ],
      "source": [
        "levenshteinDistanceDP('mohammed', n)"
      ]
    },
    {
      "cell_type": "code",
      "execution_count": null,
      "metadata": {
        "id": "yK-UePlTPBTA"
      },
      "outputs": [],
      "source": []
    },
    {
      "cell_type": "code",
      "execution_count": 29,
      "metadata": {
        "id": "x6iOLfYhOjpI"
      },
      "outputs": [],
      "source": [
        "def calcDictDistance(word, numWords):\n",
        "    # reaad in all names from df\n",
        "\n",
        "    # file = open('1-1000.txt', 'r') \n",
        "    # lines = file.readlines() \n",
        "    # file.close()\n",
        "    # dictWordDist = []\n",
        "    # wordIdx = 0\n",
        "    \n",
        "    for line in lines: \n",
        "        wordDistance = levenshteinDistanceMatrix(word, line.strip())\n",
        "        if wordDistance >= 10:\n",
        "            wordDistance = 9\n",
        "        dictWordDist.append(str(int(wordDistance)) + \"-\" + line.strip())\n",
        "        wordIdx = wordIdx + 1\n",
        "\n",
        "    closestWords = []\n",
        "    wordDetails = []\n",
        "    currWordDist = 0\n",
        "    dictWordDist.sort()\n",
        "    print(dictWordDist)\n",
        "    for i in range(numWords):\n",
        "        currWordDist = dictWordDist[i]\n",
        "        wordDetails = currWordDist.split(\"-\")\n",
        "        closestWords.append(wordDetails[1])\n",
        "    return closestWords"
      ]
    },
    {
      "cell_type": "code",
      "execution_count": null,
      "metadata": {
        "id": "s-ipG8EOQxrp"
      },
      "outputs": [],
      "source": []
    },
    {
      "cell_type": "code",
      "execution_count": 28,
      "metadata": {
        "colab": {
          "base_uri": "https://localhost:8080/"
        },
        "id": "cIZa2ANAQyOX",
        "outputId": "579c3fd6-1aef-4a3b-a26b-3fe3b8a8c4a0"
      },
      "outputs": [],
      "source": [
        "# longest common substring\n",
        "\n",
        "def lcs(S,T):\n",
        "    \n",
        "    resultlist = []\n",
        "    \n",
        "    def lcs_calc(S,T):\n",
        "        m = len(S)\n",
        "        n = len(T)\n",
        "        counter = [[0]*(n+1) for x in range(m+1)]\n",
        "        longest = 0\n",
        "        lcs_set = set()\n",
        "        for i in range(m):\n",
        "            for j in range(n):\n",
        "                if S[i] == T[j]:\n",
        "                    c = counter[i][j] + 1\n",
        "                    counter[i+1][j+1] = c\n",
        "                    if c > longest:\n",
        "                        lcs_set = set()\n",
        "                        longest = c\n",
        "                        lcs_set.add(S[i-c+1:i+1])\n",
        "                    elif c == longest:\n",
        "                        lcs_set.add(S[i-c+1:i+1])\n",
        "\n",
        "        return lcs_set\n",
        "\n",
        "    for element in T:\n",
        "        resultlist.append([len(lcs_calc(S, element)), element])\n",
        "    resultlist.sort(reverse=True)\n",
        "    resultlist = resultlist[:5]\n",
        "    \n",
        "    print(resultlist)\n",
        "    \n",
        "    # st.write(\"Top 5 results:\")\n",
        "    # for ele in resultlist:\n",
        "    #     st.write(ele)\n"
      ]
    },
    {
      "cell_type": "code",
      "execution_count": 31,
      "metadata": {
        "id": "FZg-3uXAOnWa"
      },
      "outputs": [
        {
          "name": "stdout",
          "output_type": "stream",
          "text": [
            "[[4, 'Vladimirovich'], [4, 'Vladimirovich'], [4, 'Vladimirovich'], [4, 'Vladimirovich'], [4, 'Vladimirovich']]\n"
          ]
        }
      ],
      "source": [
        "# test 1\n",
        "ret = lcs('moham', n)\n",
        "\n"
      ]
    },
    {
      "cell_type": "code",
      "execution_count": 35,
      "metadata": {},
      "outputs": [],
      "source": [
        "from difflib import SequenceMatcher\n",
        "\n",
        "string1 = \"apple pie available\"\n",
        "string2 = \"come have some apple pies\"\n",
        "\n",
        "def longest_common_substring(string1, string2):\n",
        "    resultslist = []\n",
        "    \n",
        "    def calc_lcs(token1, token2):\n",
        "        match = SequenceMatcher(None, string1, string2).find_longest_match()\n",
        "        return match\n",
        "    \n",
        "    for element in string2:\n",
        "        resultslist.append([calc_lcs(string1, element), element])\n",
        "    resultslist.sort(reverse=True)\n",
        "    resultslist = resultslist[0:5]\n",
        "    \n",
        "    print(resultslist)\n",
        "    \n",
        "        \n",
        "    "
      ]
    },
    {
      "cell_type": "code",
      "execution_count": 36,
      "metadata": {},
      "outputs": [
        {
          "ename": "KeyboardInterrupt",
          "evalue": "",
          "output_type": "error",
          "traceback": [
            "\u001b[1;31m---------------------------------------------------------------------------\u001b[0m",
            "\u001b[1;31mKeyboardInterrupt\u001b[0m                         Traceback (most recent call last)",
            "Cell \u001b[1;32mIn[36], line 1\u001b[0m\n\u001b[1;32m----> 1\u001b[0m longest_common_substring(\u001b[39m'\u001b[39;49m\u001b[39mmohamm\u001b[39;49m\u001b[39m'\u001b[39;49m, n)\n",
            "Cell \u001b[1;32mIn[35], line 14\u001b[0m, in \u001b[0;36mlongest_common_substring\u001b[1;34m(string1, string2)\u001b[0m\n\u001b[0;32m     11\u001b[0m     \u001b[39mreturn\u001b[39;00m match\n\u001b[0;32m     13\u001b[0m \u001b[39mfor\u001b[39;00m element \u001b[39min\u001b[39;00m string2:\n\u001b[1;32m---> 14\u001b[0m     resultslist\u001b[39m.\u001b[39mappend([calc_lcs(string1, element), element])\n\u001b[0;32m     15\u001b[0m resultslist\u001b[39m.\u001b[39msort(reverse\u001b[39m=\u001b[39m\u001b[39mTrue\u001b[39;00m)\n\u001b[0;32m     16\u001b[0m resultslist \u001b[39m=\u001b[39m resultslist[\u001b[39m0\u001b[39m:\u001b[39m5\u001b[39m]\n",
            "Cell \u001b[1;32mIn[35], line 10\u001b[0m, in \u001b[0;36mlongest_common_substring.<locals>.calc_lcs\u001b[1;34m(token1, token2)\u001b[0m\n\u001b[0;32m      9\u001b[0m \u001b[39mdef\u001b[39;00m \u001b[39mcalc_lcs\u001b[39m(token1, token2):\n\u001b[1;32m---> 10\u001b[0m     match \u001b[39m=\u001b[39m SequenceMatcher(\u001b[39mNone\u001b[39;49;00m, string1, string2)\u001b[39m.\u001b[39mfind_longest_match()\n\u001b[0;32m     11\u001b[0m     \u001b[39mreturn\u001b[39;00m match\n",
            "File \u001b[1;32mc:\\Users\\Joshua\\anaconda3\\envs\\test_env\\lib\\difflib.py:182\u001b[0m, in \u001b[0;36mSequenceMatcher.__init__\u001b[1;34m(self, isjunk, a, b, autojunk)\u001b[0m\n\u001b[0;32m    180\u001b[0m \u001b[39mself\u001b[39m\u001b[39m.\u001b[39ma \u001b[39m=\u001b[39m \u001b[39mself\u001b[39m\u001b[39m.\u001b[39mb \u001b[39m=\u001b[39m \u001b[39mNone\u001b[39;00m\n\u001b[0;32m    181\u001b[0m \u001b[39mself\u001b[39m\u001b[39m.\u001b[39mautojunk \u001b[39m=\u001b[39m autojunk\n\u001b[1;32m--> 182\u001b[0m \u001b[39mself\u001b[39;49m\u001b[39m.\u001b[39;49mset_seqs(a, b)\n",
            "File \u001b[1;32mc:\\Users\\Joshua\\anaconda3\\envs\\test_env\\lib\\difflib.py:194\u001b[0m, in \u001b[0;36mSequenceMatcher.set_seqs\u001b[1;34m(self, a, b)\u001b[0m\n\u001b[0;32m    185\u001b[0m \u001b[39m\"\"\"Set the two sequences to be compared.\u001b[39;00m\n\u001b[0;32m    186\u001b[0m \n\u001b[0;32m    187\u001b[0m \u001b[39m>>> s = SequenceMatcher()\u001b[39;00m\n\u001b[1;32m   (...)\u001b[0m\n\u001b[0;32m    190\u001b[0m \u001b[39m0.75\u001b[39;00m\n\u001b[0;32m    191\u001b[0m \u001b[39m\"\"\"\u001b[39;00m\n\u001b[0;32m    193\u001b[0m \u001b[39mself\u001b[39m\u001b[39m.\u001b[39mset_seq1(a)\n\u001b[1;32m--> 194\u001b[0m \u001b[39mself\u001b[39;49m\u001b[39m.\u001b[39;49mset_seq2(b)\n",
            "File \u001b[1;32mc:\\Users\\Joshua\\anaconda3\\envs\\test_env\\lib\\difflib.py:248\u001b[0m, in \u001b[0;36mSequenceMatcher.set_seq2\u001b[1;34m(self, b)\u001b[0m\n\u001b[0;32m    246\u001b[0m \u001b[39mself\u001b[39m\u001b[39m.\u001b[39mmatching_blocks \u001b[39m=\u001b[39m \u001b[39mself\u001b[39m\u001b[39m.\u001b[39mopcodes \u001b[39m=\u001b[39m \u001b[39mNone\u001b[39;00m\n\u001b[0;32m    247\u001b[0m \u001b[39mself\u001b[39m\u001b[39m.\u001b[39mfullbcount \u001b[39m=\u001b[39m \u001b[39mNone\u001b[39;00m\n\u001b[1;32m--> 248\u001b[0m \u001b[39mself\u001b[39;49m\u001b[39m.\u001b[39;49m__chain_b()\n",
            "File \u001b[1;32mc:\\Users\\Joshua\\anaconda3\\envs\\test_env\\lib\\difflib.py:280\u001b[0m, in \u001b[0;36mSequenceMatcher.__chain_b\u001b[1;34m(self)\u001b[0m\n\u001b[0;32m    277\u001b[0m b \u001b[39m=\u001b[39m \u001b[39mself\u001b[39m\u001b[39m.\u001b[39mb\n\u001b[0;32m    278\u001b[0m \u001b[39mself\u001b[39m\u001b[39m.\u001b[39mb2j \u001b[39m=\u001b[39m b2j \u001b[39m=\u001b[39m {}\n\u001b[1;32m--> 280\u001b[0m \u001b[39mfor\u001b[39;00m i, elt \u001b[39min\u001b[39;00m \u001b[39menumerate\u001b[39m(b):\n\u001b[0;32m    281\u001b[0m     indices \u001b[39m=\u001b[39m b2j\u001b[39m.\u001b[39msetdefault(elt, [])\n\u001b[0;32m    282\u001b[0m     indices\u001b[39m.\u001b[39mappend(i)\n",
            "\u001b[1;31mKeyboardInterrupt\u001b[0m: "
          ]
        }
      ],
      "source": [
        "longest_common_substring('mohamm', n)"
      ]
    },
    {
      "cell_type": "code",
      "execution_count": 34,
      "metadata": {},
      "outputs": [
        {
          "name": "stdout",
          "output_type": "stream",
          "text": [
            "Match(a=0, b=15, size=9)\n",
            "apple pie\n",
            "apple pie\n"
          ]
        }
      ],
      "source": [
        "from difflib import SequenceMatcher\n",
        "\n",
        "string1 = \"apple pie available\"\n",
        "string2 = \"come have some apple pies\"\n",
        "\n",
        "match = SequenceMatcher(None, string1, string2).find_longest_match()\n",
        "\n",
        "print(match)  \n",
        "print(string1[match.a:match.a + match.size])  \n",
        "print(string2[match.b:match.b + match.size])"
      ]
    }
  ],
  "metadata": {
    "colab": {
      "authorship_tag": "ABX9TyNoP0RS2i6a0CcYdK8JTLoO",
      "include_colab_link": true,
      "provenance": []
    },
    "kernelspec": {
      "display_name": "test_env",
      "language": "python",
      "name": "python3"
    },
    "language_info": {
      "codemirror_mode": {
        "name": "ipython",
        "version": 3
      },
      "file_extension": ".py",
      "mimetype": "text/x-python",
      "name": "python",
      "nbconvert_exporter": "python",
      "pygments_lexer": "ipython3",
      "version": "3.9.15 (main, Nov 24 2022, 14:39:17) [MSC v.1916 64 bit (AMD64)]"
    },
    "vscode": {
      "interpreter": {
        "hash": "fd70df12d5cb2f83bbc2ec582ab7a54e5adc0373a66ee6db5523ccb26090a0de"
      }
    }
  },
  "nbformat": 4,
  "nbformat_minor": 0
}
