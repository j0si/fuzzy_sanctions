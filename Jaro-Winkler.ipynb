{
 "cells": [
  {
   "cell_type": "code",
   "execution_count": null,
   "metadata": {},
   "outputs": [],
   "source": [
    "from fuzzywuzzy import jaro_winkler_similarity\n",
    "\n",
    "# Function to calculate the Jaro-Winkler similarity between two texts\n",
    "def jaro_winkler_sim(text1, text2):\n",
    "  # Calculate the Jaro-Winkler similarity between the texts\n",
    "  similarity = jaro_winkler_similarity(text1, text2)\n",
    "\n",
    "  return similarity\n",
    "\n",
    "# Example usage\n",
    "text1 = \"This is a test text.\"\n",
    "text2 = \"This is another test text.\"\n",
    "similarity = jaro_winkler_sim(text1, text2)\n",
    "print(similarity)\n"
   ]
  }
 ],
 "metadata": {
  "kernelspec": {
   "display_name": "Python 3",
   "language": "python",
   "name": "python3"
  },
  "language_info": {
   "codemirror_mode": {
    "name": "ipython",
    "version": 3
   },
   "file_extension": ".py",
   "mimetype": "text/x-python",
   "name": "python",
   "nbconvert_exporter": "python",
   "pygments_lexer": "ipython3",
   "version": "3.8.10 (v3.8.10:3d8993a744, May  3 2021, 08:55:58) \n[Clang 6.0 (clang-600.0.57)]"
  },
  "orig_nbformat": 4,
  "vscode": {
   "interpreter": {
    "hash": "aee8b7b246df8f9039afb4144a1f6fd8d2ca17a180786b69acc140d282b71a49"
   }
  }
 },
 "nbformat": 4,
 "nbformat_minor": 2
}
