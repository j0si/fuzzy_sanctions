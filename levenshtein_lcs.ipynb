{
  "nbformat": 4,
  "nbformat_minor": 0,
  "metadata": {
    "colab": {
      "provenance": [],
      "authorship_tag": "ABX9TyNoP0RS2i6a0CcYdK8JTLoO",
      "include_colab_link": true
    },
    "kernelspec": {
      "name": "python3",
      "display_name": "Python 3"
    },
    "language_info": {
      "name": "python"
    }
  },
  "cells": [
    {
      "cell_type": "markdown",
      "metadata": {
        "id": "view-in-github",
        "colab_type": "text"
      },
      "source": [
        "<a href=\"https://colab.research.google.com/github/j0si/fuzzy_sanctions/blob/main/levenshtein_lcs.ipynb\" target=\"_parent\"><img src=\"https://colab.research.google.com/assets/colab-badge.svg\" alt=\"Open In Colab\"/></a>"
      ]
    },
    {
      "cell_type": "code",
      "execution_count": 30,
      "metadata": {
        "id": "REWVijYJOWOy"
      },
      "outputs": [],
      "source": [
        "# levenstein implementation\n",
        "import numpy as np\n",
        "\n",
        "def printDistances(distances, token1Length, token2Length):\n",
        "    for t1 in range(token1Length + 1):\n",
        "        for t2 in range(token2Length + 1):\n",
        "            print(int(distances[t1][t2]), end=\" \")\n",
        "        print()\n",
        "\n",
        "def levenshteinDistanceDP(token1, token2):\n",
        "    distances = np.zeros((len(token1) + 1, len(token2) + 1))\n",
        "\n",
        "    for t1 in range(len(token1) + 1):\n",
        "        distances[t1][0] = t1\n",
        "\n",
        "    for t2 in range(len(token2) + 1):\n",
        "        distances[0][t2] = t2\n",
        "        \n",
        "    a = 0\n",
        "    b = 0\n",
        "    c = 0\n",
        "    \n",
        "    for t1 in range(1, len(token1) + 1):\n",
        "        for t2 in range(1, len(token2) + 1):\n",
        "            if (token1[t1-1] == token2[t2-1]):\n",
        "                distances[t1][t2] = distances[t1 - 1][t2 - 1]\n",
        "            else:\n",
        "                a = distances[t1][t2 - 1]\n",
        "                b = distances[t1 - 1][t2]\n",
        "                c = distances[t1 - 1][t2 - 1]\n",
        "                \n",
        "                if (a <= b and a <= c):\n",
        "                    distances[t1][t2] = a + 1\n",
        "                elif (b <= a and b <= c):\n",
        "                    distances[t1][t2] = b + 1\n",
        "                else:\n",
        "                    distances[t1][t2] = c + 1\n",
        "\n",
        "    printDistances(distances, len(token1), len(token2))\n",
        "    return distances[len(token1)][len(token2)]\n"
      ]
    },
    {
      "cell_type": "code",
      "source": [
        "levenshteinDistanceDP('hello','kelm')"
      ],
      "metadata": {
        "colab": {
          "base_uri": "https://localhost:8080/"
        },
        "id": "WHnClyFuQAWf",
        "outputId": "9f4d3692-deee-47b9-d923-3ddde99d79b2"
      },
      "execution_count": 32,
      "outputs": [
        {
          "output_type": "stream",
          "name": "stdout",
          "text": [
            "0 1 2 3 4 \n",
            "1 1 2 3 4 \n",
            "2 2 1 2 3 \n",
            "3 3 2 1 2 \n",
            "4 4 3 2 2 \n",
            "5 5 4 3 3 \n"
          ]
        },
        {
          "output_type": "execute_result",
          "data": {
            "text/plain": [
              "3.0"
            ]
          },
          "metadata": {},
          "execution_count": 32
        }
      ]
    },
    {
      "cell_type": "code",
      "source": [],
      "metadata": {
        "id": "yK-UePlTPBTA"
      },
      "execution_count": null,
      "outputs": []
    },
    {
      "cell_type": "code",
      "source": [
        "def calcDictDistance(word, numWords):\n",
        "    # reaad in all names from df\n",
        "\n",
        "    # file = open('1-1000.txt', 'r') \n",
        "    # lines = file.readlines() \n",
        "    # file.close()\n",
        "    # dictWordDist = []\n",
        "    # wordIdx = 0\n",
        "    \n",
        "    for line in lines: \n",
        "        wordDistance = levenshteinDistanceMatrix(word, line.strip())\n",
        "        if wordDistance >= 10:\n",
        "            wordDistance = 9\n",
        "        dictWordDist.append(str(int(wordDistance)) + \"-\" + line.strip())\n",
        "        wordIdx = wordIdx + 1\n",
        "\n",
        "    closestWords = []\n",
        "    wordDetails = []\n",
        "    currWordDist = 0\n",
        "    dictWordDist.sort()\n",
        "    print(dictWordDist)\n",
        "    for i in range(numWords):\n",
        "        currWordDist = dictWordDist[i]\n",
        "        wordDetails = currWordDist.split(\"-\")\n",
        "        closestWords.append(wordDetails[1])\n",
        "    return closestWords"
      ],
      "metadata": {
        "id": "x6iOLfYhOjpI"
      },
      "execution_count": 29,
      "outputs": []
    },
    {
      "cell_type": "code",
      "source": [],
      "metadata": {
        "id": "s-ipG8EOQxrp"
      },
      "execution_count": null,
      "outputs": []
    },
    {
      "cell_type": "code",
      "source": [
        "# longest common substring\n",
        "\n",
        "def lcs(S,T):\n",
        "    m = len(S)\n",
        "    n = len(T)\n",
        "    counter = [[0]*(n+1) for x in range(m+1)]\n",
        "    longest = 0\n",
        "    lcs_set = set()\n",
        "    for i in range(m):\n",
        "        for j in range(n):\n",
        "            if S[i] == T[j]:\n",
        "                c = counter[i][j] + 1\n",
        "                counter[i+1][j+1] = c\n",
        "                if c > longest:\n",
        "                    lcs_set = set()\n",
        "                    longest = c\n",
        "                    lcs_set.add(S[i-c+1:i+1])\n",
        "                elif c == longest:\n",
        "                    lcs_set.add(S[i-c+1:i+1])\n",
        "\n",
        "    return lcs_set\n",
        "\n",
        "# test 1\n",
        "ret = lcs('pauline', 'pauline maier')\n",
        "for s in ret:\n",
        "    print(s)\n",
        "\n",
        "len(s)\n"
      ],
      "metadata": {
        "colab": {
          "base_uri": "https://localhost:8080/"
        },
        "id": "cIZa2ANAQyOX",
        "outputId": "579c3fd6-1aef-4a3b-a26b-3fe3b8a8c4a0"
      },
      "execution_count": 22,
      "outputs": [
        {
          "output_type": "stream",
          "name": "stdout",
          "text": [
            "pauline\n"
          ]
        },
        {
          "output_type": "execute_result",
          "data": {
            "text/plain": [
              "7"
            ]
          },
          "metadata": {},
          "execution_count": 22
        }
      ]
    },
    {
      "cell_type": "code",
      "source": [],
      "metadata": {
        "id": "FZg-3uXAOnWa"
      },
      "execution_count": null,
      "outputs": []
    }
  ]
}