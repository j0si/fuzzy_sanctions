{
 "cells": [
  {
   "cell_type": "code",
   "execution_count": null,
   "metadata": {},
   "outputs": [],
   "source": [
    "import PyPDF2\n",
    "import pandas as pd\n",
    "\n",
    "# Read pdf object\n",
    "pdfFileObj = open('20221118-FULL.pdf', 'rb') \n",
    "pdfReader = PyPDF2.PdfReader(pdfFileObj) \n",
    "\n",
    "allText = \"\"\n",
    "for i in range(792): #Iterating over n pages \n",
    "    pageObj = pdfReader.pages[i]\n",
    "    page = pageObj.extract_text()\n",
    "    allText += page #Store page content into string variable\n",
    "\n",
    "# Preprocessing\n",
    "allText = allText.replace(';','')\n",
    "\n",
    "alltext_string_all = allText.replace('Legal basis',';Legal basis').replace('Identity information',';Identity information').replace('Programme', ';Programme').replace('Birth information',';Birth information').replace('Citizenship information',';Citizenship information').replace('Contact information',';Contact information')\n",
    "testListSplit = alltext_string_all.split('reference number: EU')\n",
    "\n",
    "\n",
    "# Create dataframe\n",
    "df = pd.DataFrame([sub.split(\";\") for sub in testListSplit])\n",
    "df.fillna(\"\",inplace=True)\n",
    "df.columns = ['EU Reference', 'Legal basis', 'Programme', 'Identity information', 'Birth information', 'Citizenship information', 'Contact information']\n",
    "\n",
    "# Dataframe Cleanup\n",
    "def cleanupDataframe(dataframe):\n",
    "    dataframe['Legal basis'] = dataframe['Legal basis'].apply(lambda x: x.replace('Legal basis: ','').replace('\\n',''))\n",
    "    dataframe['Programme'] = dataframe['Programme'].apply(lambda x: x.replace('Programme: ','').replace('\\n',''))\n",
    "    dataframe['Identity information'] = dataframe['Identity information'].apply(lambda x: x.replace('Identity information:','').replace('Name/Alias:',';').replace('•','').replace('Function:','').split(';'))\n",
    "    dataframe.replace('^\\s+', '', regex=True, inplace=True) #front\n",
    "    dataframe.replace('\\s+$', '', regex=True, inplace=True) #end\n",
    "    dataframe['Birth information'] = dataframe['Birth information'].apply(lambda x: x.replace('Birth information:\\n•',''))\n",
    "    return dataframe\n",
    "\n",
    "def stripDataframe(dataframe):\n",
    "    dataframe['Identity information'] = dataframe['Identity information'].apply(lambda x: [y.strip() for y in x ])\n",
    "    return dataframe\n",
    "\n",
    "cleanupDataframe(df)\n",
    "stripDataframe(df)"
   ]
  }
 ],
 "metadata": {
  "kernelspec": {
   "display_name": "Python 3",
   "language": "python",
   "name": "python3"
  },
  "language_info": {
   "name": "python",
   "version": "3.10.5 (tags/v3.10.5:f377153, Jun  6 2022, 16:14:13) [MSC v.1929 64 bit (AMD64)]"
  },
  "orig_nbformat": 4,
  "vscode": {
   "interpreter": {
    "hash": "864e1f20dbb28239d950687f39028fbb4c0d085af87de4b77635b27f74266f13"
   }
  }
 },
 "nbformat": 4,
 "nbformat_minor": 2
}
